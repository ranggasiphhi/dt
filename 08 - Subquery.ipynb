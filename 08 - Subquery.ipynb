{
 "cells": [
  {
   "cell_type": "code",
   "execution_count": null,
   "metadata": {},
   "outputs": [],
   "source": [
    "import pymysql\n",
    "import pandas as pd\n",
    "\n",
    "host = '127.0.0.1'\n",
    "port = \"3306\"\n",
    "user = 'root'\n",
    "password = ''\n",
    "database = 'classicmodels'\n",
    "\n",
    "conn = pymysql.connect(\n",
    "    host=host,\n",
    "    port=int(port),\n",
    "    user=user,\n",
    "    passwd=password,\n",
    "    db=database,\n",
    "    charset='utf8mb4')\n",
    "\n",
    "def run(sql):\n",
    "    df = pd.read_sql_query(sql,conn)\n",
    "    return df"
   ]
  },
  {
   "cell_type": "raw",
   "metadata": {},
   "source": [
    "# Subquery\n",
    "\n",
    "Kita bisa membuat sebuah query yang berada di dalam query yang lain.\n",
    "Hal ini disebut dengan **subquery**\n"
   ]
  },
  {
   "cell_type": "code",
   "execution_count": null,
   "metadata": {},
   "outputs": [],
   "source": [
    "run(\"\"\"\n",
    "SELECT \n",
    "    lastName, firstName\n",
    "FROM\n",
    "    employees\n",
    "WHERE\n",
    "    officeCode IN (SELECT \n",
    "            officeCode\n",
    "        FROM\n",
    "            offices\n",
    "        WHERE\n",
    "            country = 'USA')\n",
    "\"\"\")"
   ]
  },
  {
   "cell_type": "raw",
   "metadata": {},
   "source": [
    "![subquery](https://www.mysqltutorial.org/wp-content/uploads/2013/02/mysql-subquery.gif"
   ]
  },
  {
   "cell_type": "raw",
   "metadata": {},
   "source": [
    "#Subquery di dalam Where Clause\n",
    "![subquery](http://www.mysqltutorial.org/wp-content/uploads/2013/05/payments_table.png)"
   ]
  },
  {
   "cell_type": "raw",
   "metadata": {},
   "source": [
    "##Menggunakan operator comparison"
   ]
  },
  {
   "cell_type": "code",
   "execution_count": null,
   "metadata": {},
   "outputs": [],
   "source": [
    "run(\"\"\"\n",
    "SELECT \n",
    "    customerNumber, checkNumber, amount\n",
    "FROM\n",
    "    payments\n",
    "WHERE\n",
    "    amount = (SELECT \n",
    "            MAX(amount)\n",
    "        FROM\n",
    "            payments);\n",
    "\"\"\")"
   ]
  },
  {
   "cell_type": "code",
   "execution_count": null,
   "metadata": {},
   "outputs": [],
   "source": [
    "run(\"\"\"\n",
    "SELECT \n",
    "    customerNumber, checkNumber, amount\n",
    "FROM\n",
    "    payments\n",
    "WHERE\n",
    "    amount > (SELECT \n",
    "            AVG(amount)\n",
    "        FROM\n",
    "            payments);\n",
    "\n",
    "\"\"\")"
   ]
  },
  {
   "cell_type": "raw",
   "metadata": {},
   "source": [
    "##Menggunakan Operator IN dan NOT IN\n",
    "![subquery](http://www.mysqltutorial.org/wp-content/uploads/2009/12/customers_orders_tables.png)"
   ]
  },
  {
   "cell_type": "code",
   "execution_count": null,
   "metadata": {},
   "outputs": [],
   "source": [
    "run(\"\"\"\n",
    "SELECT \n",
    "    customerName\n",
    "FROM\n",
    "    customers\n",
    "WHERE\n",
    "    customerNumber NOT IN (SELECT DISTINCT\n",
    "            customerNumber\n",
    "        FROM\n",
    "            orders);\n",
    "\n",
    "\n",
    "\"\"\")"
   ]
  },
  {
   "cell_type": "raw",
   "metadata": {},
   "source": [
    "#Subquery di dalam FROM\n",
    "Tujuannya ialah membuat tabel sementara yang tidak terdapat tabel dalam database tersebut"
   ]
  },
  {
   "cell_type": "code",
   "execution_count": null,
   "metadata": {},
   "outputs": [],
   "source": [
    "run(\"\"\"\n",
    "SELECT \n",
    "    MAX(items), MIN(items), FLOOR(AVG(items))\n",
    "FROM\n",
    "    (SELECT \n",
    "        orderNumber, COUNT(orderNumber) AS items\n",
    "    FROM\n",
    "        orderdetails\n",
    "    GROUP BY orderNumber) AS lineitems;\n",
    "\n",
    "\"\"\")"
   ]
  },
  {
   "cell_type": "raw",
   "metadata": {},
   "source": [
    "#Exist dan NonExists\n",
    "![subquery](http://www.mysqltutorial.org/wp-content/uploads/2011/05/orders_order_details_tables.png)"
   ]
  },
  {
   "cell_type": "code",
   "execution_count": null,
   "metadata": {},
   "outputs": [],
   "source": [
    "run(\"\"\"\n",
    "SELECT \n",
    "    customerNumber, \n",
    "    customerName\n",
    "FROM\n",
    "    customers\n",
    "WHERE\n",
    "    EXISTS( SELECT \n",
    "            orderNumber, SUM(priceEach * quantityOrdered)\n",
    "        FROM\n",
    "            orderdetails\n",
    "                INNER JOIN\n",
    "            orders USING (orderNumber)\n",
    "        WHERE\n",
    "            customerNumber = customers.customerNumber\n",
    "        GROUP BY orderNumber\n",
    "        HAVING SUM(priceEach * quantityOrdered) > 60000);\n",
    "\n",
    "\"\"\")"
   ]
  }
 ],
 "metadata": {
  "kernelspec": {
   "display_name": "Python 3",
   "language": "python",
   "name": "python3"
  },
  "language_info": {
   "codemirror_mode": {
    "name": "ipython",
    "version": 3
   },
   "file_extension": ".py",
   "mimetype": "text/x-python",
   "name": "python",
   "nbconvert_exporter": "python",
   "pygments_lexer": "ipython3",
   "version": "3.6.5"
  }
 },
 "nbformat": 4,
 "nbformat_minor": 2
}
